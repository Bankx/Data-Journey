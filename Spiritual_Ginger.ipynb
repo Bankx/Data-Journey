{
  "nbformat": 4,
  "nbformat_minor": 0,
  "metadata": {
    "colab": {
      "name": "Spiritual Ginger",
      "provenance": [],
      "authorship_tag": "ABX9TyMnrpDYKQYYPvZsGcXpHF81",
      "include_colab_link": true
    },
    "kernelspec": {
      "name": "python3",
      "display_name": "Python 3"
    }
  },
  "cells": [
    {
      "cell_type": "markdown",
      "metadata": {
        "id": "view-in-github",
        "colab_type": "text"
      },
      "source": [
        "<a href=\"https://colab.research.google.com/github/Bankx/Data-Journey/blob/main/Spiritual_Ginger.ipynb\" target=\"_parent\"><img src=\"https://colab.research.google.com/assets/colab-badge.svg\" alt=\"Open In Colab\"/></a>"
      ]
    },
    {
      "cell_type": "code",
      "metadata": {
        "id": "dhNw5HmODxF6",
        "colab": {
          "base_uri": "https://localhost:8080/"
        },
        "outputId": "a59420d1-1bee-433e-df1c-9bb6b7d36020"
      },
      "source": [
        "  ######Question 1#####\r\n",
        "  def quest(name, age):\r\n",
        "    print(name, age)\r\n",
        "\r\n",
        "quest(\"Peter\", \"23\")    \r\n"
      ],
      "execution_count": null,
      "outputs": [
        {
          "output_type": "stream",
          "text": [
            "Peter 23\n"
          ],
          "name": "stdout"
        }
      ]
    },
    {
      "cell_type": "code",
      "metadata": {
        "colab": {
          "base_uri": "https://localhost:8080/"
        },
        "id": "WdmV-nSHFd4h",
        "outputId": "16686cda-2eff-4467-b828-d7c464d4a892"
      },
      "source": [
        "###Question 2#####\r\n",
        "def func1(*args):\r\n",
        "    for a in args:\r\n",
        "     print (a)\r\n",
        "\r\n",
        "func1(20, 30, 50)\r\n",
        "func1(90, 100)\r\n",
        "\r\n"
      ],
      "execution_count": null,
      "outputs": [
        {
          "output_type": "stream",
          "text": [
            "20\n",
            "30\n",
            "50\n",
            "90\n",
            "100\n"
          ],
          "name": "stdout"
        }
      ]
    },
    {
      "cell_type": "code",
      "metadata": {
        "colab": {
          "base_uri": "https://localhost:8080/"
        },
        "id": "dTPyN6h5J41o",
        "outputId": "38d760c7-6a43-4183-a0c1-90819ef027c1"
      },
      "source": [
        "###Question 3####\r\n",
        "def calculation(a,b):\r\n",
        "   m = a+b\r\n",
        "   n = a-b\r\n",
        "   print (m,n)\r\n",
        "\r\n",
        "calculation(10,59)"
      ],
      "execution_count": null,
      "outputs": [
        {
          "output_type": "stream",
          "text": [
            "69 -49\n"
          ],
          "name": "stdout"
        }
      ]
    },
    {
      "cell_type": "code",
      "metadata": {
        "colab": {
          "base_uri": "https://localhost:8080/"
        },
        "id": "ejIZADg-NmmR",
        "outputId": "53861041-631a-4470-a385-9eb58e80a9ff"
      },
      "source": [
        "### Question 4 ########\r\n",
        "def showemployee(name,salary= 9000):\r\n",
        "  \r\n",
        "  print(\"Employee\", name , \"salary is \",salary )\r\n",
        "\r\n",
        "\r\n",
        "showemployee(\"sam\", 9000)\r\n",
        "showemployee('sam')\r\n"
      ],
      "execution_count": null,
      "outputs": [
        {
          "output_type": "stream",
          "text": [
            "Employee sam salary is  9000\n",
            "Employee sam salary is  9000\n"
          ],
          "name": "stdout"
        }
      ]
    },
    {
      "cell_type": "code",
      "metadata": {
        "colab": {
          "base_uri": "https://localhost:8080/"
        },
        "id": "DPjaXZobWaEy",
        "outputId": "a007f3ce-0f6c-46cb-8a85-81606b5702c4"
      },
      "source": [
        "#### Question 5#####\r\n",
        "def add(a, b):\r\n",
        "  #inner  function\r\n",
        "  def sum(a, b):\r\n",
        "    return a+b\r\n",
        "  m = sum(a,b)\r\n",
        "  print(m+5)\r\n",
        "\r\n",
        "add(10,5)"
      ],
      "execution_count": null,
      "outputs": [
        {
          "output_type": "stream",
          "text": [
            "20\n"
          ],
          "name": "stdout"
        }
      ]
    },
    {
      "cell_type": "code",
      "metadata": {
        "colab": {
          "base_uri": "https://localhost:8080/"
        },
        "id": "UkJ6Dok0rSQH",
        "outputId": "0cc3d34f-5293-4247-f39b-de37a82f37a3"
      },
      "source": [
        "### Question 6######\r\n",
        "def boobs(m):\r\n",
        "    if m == 0 :\r\n",
        "        return 0\r\n",
        "    elif m==1:\r\n",
        "         return 1\r\n",
        "    else:\r\n",
        "      return boobs(m-1) + boobs(m-2)\r\n",
        "\r\n",
        "      \r\n",
        "      \r\n",
        "boobs(10)\r\n",
        "\r\n"
      ],
      "execution_count": null,
      "outputs": [
        {
          "output_type": "execute_result",
          "data": {
            "text/plain": [
              "55"
            ]
          },
          "metadata": {
            "tags": []
          },
          "execution_count": 124
        }
      ]
    },
    {
      "cell_type": "code",
      "metadata": {
        "colab": {
          "base_uri": "https://localhost:8080/"
        },
        "id": "Mqf-nf75tpT3",
        "outputId": "9eeaa867-5321-47c4-839d-a9f3e90cf261"
      },
      "source": [
        "######  QUESTION 7#####\r\n",
        "def youtube (title, min):\r\n",
        "    print(title, min)\r\n",
        "Showtube = youtube\r\n",
        "Showtube(\"Franlin's Ghost\", \"120\")"
      ],
      "execution_count": null,
      "outputs": [
        {
          "output_type": "stream",
          "text": [
            "Franlin's Ghost 120\n"
          ],
          "name": "stdout"
        }
      ]
    },
    {
      "cell_type": "code",
      "metadata": {
        "colab": {
          "base_uri": "https://localhost:8080/"
        },
        "id": "qF4U3Toq0ogF",
        "outputId": "7d000eb9-dc29-4cf9-a76a-d47e8d13e74e"
      },
      "source": [
        "#### Question 8####\r\n",
        "m= [4,5,6,7,8,9,10,11,12,13,14,15,16,17,18,19,20,21,22,23,24,25,26,27,28,29,30]\r\n",
        "x=m[0::2]\r\n",
        "print (x)"
      ],
      "execution_count": null,
      "outputs": [
        {
          "output_type": "stream",
          "text": [
            "[4, 6, 8, 10, 12, 14, 16, 18, 20, 22, 24, 26, 28, 30]\n"
          ],
          "name": "stdout"
        }
      ]
    },
    {
      "cell_type": "markdown",
      "metadata": {
        "id": "N3G-cLIf1YNf"
      },
      "source": [
        ""
      ]
    },
    {
      "cell_type": "code",
      "metadata": {
        "colab": {
          "base_uri": "https://localhost:8080/"
        },
        "id": "eQ5-ixon3NWd",
        "outputId": "ce745092-e489-4ece-ff3b-9bb8b01df395"
      },
      "source": [
        "##### Question 9#####\r\n",
        "M=[10, 20,5,30,40,30 ]\r\n",
        "max(M)\r\n"
      ],
      "execution_count": null,
      "outputs": [
        {
          "output_type": "execute_result",
          "data": {
            "text/plain": [
              "40"
            ]
          },
          "metadata": {
            "tags": []
          },
          "execution_count": 169
        }
      ]
    }
  ]
}